{
 "cells": [
  {
   "cell_type": "markdown",
   "metadata": {
    "id": "DhABxXGGG41q"
   },
   "source": [
    "# Value at Risk Assessment Model"
   ]
  },
  {
   "cell_type": "markdown",
   "metadata": {
    "id": "2RPdfXEEG41t"
   },
   "source": [
    "### Import Packages"
   ]
  },
  {
   "cell_type": "code",
   "execution_count": 1,
   "metadata": {
    "id": "vfRHja5xG41u"
   },
   "outputs": [],
   "source": [
    "# Import packages\n",
    "import numpy as np\n",
    "import pandas as pd\n",
    "import matplotlib.pyplot as plt\n",
    "import yfinance as yf"
   ]
  },
  {
   "cell_type": "markdown",
   "metadata": {
    "id": "d5W6RwdIG41v"
   },
   "source": [
    "### Distributions - Set Up Stock Parameters"
   ]
  },
  {
   "cell_type": "code",
   "execution_count": 2,
   "metadata": {
    "id": "S4lUCx5nG41v"
   },
   "outputs": [
    {
     "name": "stdout",
     "output_type": "stream",
     "text": [
      "MSFT\n",
      "--------\n",
      "239.82000732421875\n"
     ]
    }
   ],
   "source": [
    "# Number of shares\n",
    "shares_MSFT = 1000\n",
    "\n",
    "\n",
    "# Live stock price\n",
    "price = yf.Ticker('MSFT')\n",
    "price_MSFT = price.history().tail(1)['Close'].iloc[0]\n",
    "print(\"MSFT\")\n",
    "print(\"--------\")\n",
    "print(price.history().tail(1)['Close'].iloc[0])\n"
   ]
  },
  {
   "cell_type": "markdown",
   "metadata": {
    "id": "TnYmv1i5G41v"
   },
   "source": [
    "30-day Historical volatility source: https://www.alphaquery.com/stock/MSFT/volatility-option-statistics/30-day/historical-volatility"
   ]
  },
  {
   "cell_type": "code",
   "execution_count": 3,
   "metadata": {
    "id": "76xj8cmqG41v"
   },
   "outputs": [],
   "source": [
    "# Investment value\n",
    "value_MSFT = price_MSFT * shares_MSFT\n",
    "\n",
    "# Risk free rate (4-week treasury bill rate)\n",
    "rfr_MSFT = 0.02\n",
    "\n",
    "# Volatility (30-day volatility at that time)\n",
    "vol_MSFT = 0.2599"
   ]
  },
  {
   "cell_type": "markdown",
   "metadata": {
    "id": "0RRGdvW5G41w"
   },
   "source": [
    "### Simulations - Calculate Investment Returns"
   ]
  },
  {
   "cell_type": "code",
   "execution_count": 4,
   "metadata": {
    "id": "EhL5ICKPG41w"
   },
   "outputs": [],
   "source": [
    "# Number of simulations\n",
    "simulations = 50000\n",
    "\n",
    "# Investment time in a year\n",
    "t_MSFT = 21/252"
   ]
  },
  {
   "cell_type": "code",
   "execution_count": 10,
   "metadata": {
    "id": "Ta7hVoQ7G41w"
   },
   "outputs": [
    {
     "data": {
      "image/png": "[encoded data removed]",
      "text/plain": [
       "<Figure size 432x288 with 1 Axes>"
      ]
     },
     "metadata": {
      "needs_background": "light"
     },
     "output_type": "display_data"
    }
   ],
   "source": [
    "# Explain np.random.standard_normal\n",
    "sample = np.random.standard_normal(5000)\n",
    "plt.hist(sample, bins = 100);"
   ]
  },
  {
   "cell_type": "code",
   "execution_count": 13,
   "metadata": {
    "id": "0_f89juWG41x"
   },
   "outputs": [
    {
     "name": "stdout",
     "output_type": "stream",
     "text": [
      "0.007454610479452542\n",
      "0.9968456189379145\n"
     ]
    }
   ],
   "source": [
    "# Create a function to calculate the returns of the investment\n",
    "print(np.mean(sample))\n",
    "print(np.std(sample))\n",
    "\n",
    "# Apply the VaR function to simulate the returns\n",
    "def VaR(pv, rfr, vol, t, simulations):\n",
    "    end_value = pv * np.exp((rfr - 0.5 * vol ** 2) * t + np.random.standard_normal(simulations) * vol * np.sqrt(t))\n",
    "    returns = end_value - pv\n",
    "    return returns\n",
    "\n",
    "returns_MSFT = VaR(value_MSFT, rfr_MSFT, vol_MSFT, t_MSFT, simulations)"
   ]
  },
  {
   "cell_type": "markdown",
   "metadata": {
    "id": "v8wA9yxHG41x"
   },
   "source": [
    "### Quantifications - Identify VaR at 90%, 95%, and 99% Confidence Level"
   ]
  },
  {
   "cell_type": "code",
   "execution_count": 14,
   "metadata": {
    "id": "6-QygAyMG41x"
   },
   "outputs": [
    {
     "name": "stdout",
     "output_type": "stream",
     "text": [
      "VaR at 90% confidence level: $3,455\n"
     ]
    }
   ],
   "source": [
    "# Explain string formatting\n",
    "# Print: VaR at x% confidence level: $y.\n",
    "x = 0.9\n",
    "y = 3455.248\n",
    "print(\"VaR at {:.0%} confidence level: ${:,.0f}\".format(x, y))"
   ]
  },
  {
   "cell_type": "code",
   "execution_count": 16,
   "metadata": {
    "id": "KxCc8t0yG41x"
   },
   "outputs": [
    {
     "name": "stdout",
     "output_type": "stream",
     "text": [
      "VaR at 90% confidence level: $-22,344\n",
      "VaR at 95% confidence level: $-28,234\n",
      "VaR at 99% confidence level: $-38,988\n"
     ]
    },
    {
     "data": {
      "image/png": "[encoded data removed]",
      "text/plain": [
       "<Figure size 432x288 with 1 Axes>"
      ]
     },
     "metadata": {
      "needs_background": "light"
     },
     "output_type": "display_data"
    }
   ],
   "source": [
    "# Plot the returns\n",
    "plt.hist(returns_MSFT, bins = 100);\n",
    "\n",
    "\n",
    "\n",
    "# Show VaR at 90%, 95%, and 99% confidence level\n",
    "percentiles = [10, 5, 1]\n",
    "for i in percentiles:\n",
    "    confidence = (100-i)/100\n",
    "    value = np.percentile(returns_MSFT, i)\n",
    "    print(\"VaR at {:.0%} confidence level: ${:,.0f}\".format(confidence, value))\n",
    "    plt.axvline(value, color = 'red', linestyle='dashed', linewidth=1)\n",
    "\n"
   ]
  },
  {
   "cell_type": "code",
   "execution_count": null,
   "metadata": {},
   "outputs": [],
   "source": []
  }
 ],
 "metadata": {
  "colab": {
   "name": "03-Value at Risk Assessment-Blank.ipynb",
   "provenance": []
  },
  "kernelspec": {
   "display_name": "Python 3 (ipykernel)",
   "language": "python",
   "name": "python3"
  },
  "language_info": {
   "codemirror_mode": {
    "name": "ipython",
    "version": 3
   },
   "file_extension": ".py",
   "mimetype": "text/x-python",
   "name": "python",
   "nbconvert_exporter": "python",
   "pygments_lexer": "ipython3",
   "version": "3.9.12"
  }
 },
 "nbformat": 4,
 "nbformat_minor": 1
}
