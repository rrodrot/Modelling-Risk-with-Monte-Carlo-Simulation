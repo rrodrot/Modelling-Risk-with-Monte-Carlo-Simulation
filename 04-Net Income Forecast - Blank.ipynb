{
 "cells": [
  {
   "cell_type": "markdown",
   "metadata": {},
   "source": [
    "# Net Income Forecast Model"
   ]
  },
  {
   "cell_type": "markdown",
   "metadata": {},
   "source": [
    "### Import Packages"
   ]
  },
  {
   "cell_type": "code",
   "execution_count": 1,
   "metadata": {},
   "outputs": [],
   "source": [
    "import numpy as np\n",
    "import matplotlib.pyplot as plt"
   ]
  },
  {
   "cell_type": "markdown",
   "metadata": {},
   "source": [
    "### Distributions - Assumptions"
   ]
  },
  {
   "cell_type": "code",
   "execution_count": 4,
   "metadata": {},
   "outputs": [],
   "source": [
    "# Create variables for assumptions \n",
    "sales_mean = 50\n",
    "sales_std = 5\n",
    "COGS_mean = 0.15\n",
    "COGS_std = 0.1"
   ]
  },
  {
   "cell_type": "markdown",
   "metadata": {},
   "source": [
    "### Simulations - Simulate Sales, COGS, and Net Income"
   ]
  },
  {
   "cell_type": "code",
   "execution_count": 5,
   "metadata": {},
   "outputs": [
    {
     "name": "stdout",
     "output_type": "stream",
     "text": [
      "[47.83228712 44.91205705 47.52605126 ... 53.71422975 61.64647574\n",
      " 57.82181075]\n",
      "mean:  50.13223088319882\n",
      "std:  5.041303877756628\n"
     ]
    }
   ],
   "source": [
    "# Generate sales samples \n",
    "simulations = 10000\n",
    "sales_sims = np.random.normal(sales_mean, sales_std, simulations)\n",
    "\n",
    "print(sales_sims)\n",
    "print(\"mean: \", np.mean(sales_sims))\n",
    "print(\"std: \", np.std(sales_sims))"
   ]
  },
  {
   "cell_type": "code",
   "execution_count": 6,
   "metadata": {},
   "outputs": [],
   "source": [
    "# Generate COGS samples\n",
    "COGS_sims = -(sales_sims * np.random.normal(COGS_mean, COGS_std, simulations))\n",
    "\n",
    "# Generate net income simulations\n",
    "profit_sims = sales_sims + COGS_sims"
   ]
  },
  {
   "cell_type": "markdown",
   "metadata": {},
   "source": [
    "### Quantifications - Examine the Worst, Average, Best scenarios and the Probability Distribution"
   ]
  },
  {
   "cell_type": "code",
   "execution_count": 9,
   "metadata": {},
   "outputs": [
    {
     "name": "stdout",
     "output_type": "stream",
     "text": [
      "Worst case:  21.720971721189624\n",
      "Average case:  42.672809654652276\n",
      "Best case:  76.24289386292678\n"
     ]
    }
   ],
   "source": [
    "# Examine the worst, average, and best cases\n",
    "print(\"Worst case: \", min(profit_sims))\n",
    "print(\"Average case: \", np.mean(profit_sims))\n",
    "print(\"Best case: \", max(profit_sims))"
   ]
  },
  {
   "cell_type": "code",
   "execution_count": 11,
   "metadata": {},
   "outputs": [
    {
     "name": "stdout",
     "output_type": "stream",
     "text": [
      "68% profit range: $36.05 and $49.29\n",
      "95% profit range: $29.43 and $55.91\n"
     ]
    },
    {
     "data": {
      "image/png": "[encoded data removed]",
      "text/plain": [
       "<Figure size 432x288 with 1 Axes>"
      ]
     },
     "metadata": {
      "needs_background": "light"
     },
     "output_type": "display_data"
    }
   ],
   "source": [
    "# Set up confidence intervals\n",
    "Upper68 = profit_sims.mean() + profit_sims.std()\n",
    "Lower68 = profit_sims.mean() - profit_sims.std()\n",
    "Upper95 = profit_sims.mean() + profit_sims.std() * 2\n",
    "Lower95 = profit_sims.mean() - profit_sims.std() * 2\n",
    "\n",
    "# Plot the probability distribution\n",
    "plt.hist(profit_sims, bins = 20)\n",
    "plt.axvline(Upper68, color = 'k', linestyle = 'dashed', linewidth=1)\n",
    "plt.axvline(Lower68, color = 'k', linestyle = 'dashed', linewidth=1)\n",
    "plt.axvline(Upper95, color = 'k', linestyle = 'dashed', linewidth=1)\n",
    "plt.axvline(Lower95, color = 'k', linestyle = 'dashed', linewidth=1)\n",
    "# Print out confidence intervals\n",
    "print(f\"68% profit range: ${round(Lower68, 2)} and ${round(Upper68, 2)}\")\n",
    "print(f\"95% profit range: ${round(Lower95, 2)} and ${round(Upper95, 2)}\")\n"
   ]
  }
 ],
 "metadata": {
  "kernelspec": {
   "display_name": "Python 3 (ipykernel)",
   "language": "python",
   "name": "python3"
  },
  "language_info": {
   "codemirror_mode": {
    "name": "ipython",
    "version": 3
   },
   "file_extension": ".py",
   "mimetype": "text/x-python",
   "name": "python",
   "nbconvert_exporter": "python",
   "pygments_lexer": "ipython3",
   "version": "3.9.12"
  }
 },
 "nbformat": 4,
 "nbformat_minor": 2
}
